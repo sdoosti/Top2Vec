{
 "cells": [
  {
   "cell_type": "markdown",
   "metadata": {},
   "source": [
    "## Calculate Content Similarity Metric"
   ]
  },
  {
   "cell_type": "code",
   "execution_count": 1,
   "metadata": {},
   "outputs": [
    {
     "name": "stderr",
     "output_type": "stream",
     "text": [
      "/home/doosti@chapman.edu/.conda/envs/ctopics/lib/python3.8/site-packages/tqdm/auto.py:21: TqdmWarning: IProgress not found. Please update jupyter and ipywidgets. See https://ipywidgets.readthedocs.io/en/stable/user_install.html\n",
      "  from .autonotebook import tqdm as notebook_tqdm\n",
      "2024-07-01 12:15:06.320440: I tensorflow/tsl/cuda/cudart_stub.cc:28] Could not find cuda drivers on your machine, GPU will not be used.\n",
      "2024-07-01 12:15:06.405717: I tensorflow/tsl/cuda/cudart_stub.cc:28] Could not find cuda drivers on your machine, GPU will not be used.\n",
      "2024-07-01 12:15:06.407465: I tensorflow/core/platform/cpu_feature_guard.cc:182] This TensorFlow binary is optimized to use available CPU instructions in performance-critical operations.\n",
      "To enable the following instructions: AVX2 FMA, in other operations, rebuild TensorFlow with the appropriate compiler flags.\n",
      "2024-07-01 12:15:09.671668: W tensorflow/compiler/tf2tensorrt/utils/py_utils.cc:38] TF-TRT Warning: Could not find TensorRT\n"
     ]
    }
   ],
   "source": [
    "import pandas as pd\n",
    "import numpy as np\n",
    "import os\n",
    "from top2vec import Top2Vec"
   ]
  },
  {
   "cell_type": "code",
   "execution_count": 12,
   "metadata": {},
   "outputs": [],
   "source": [
    "PATH = \"/home/doosti@chapman.edu/projects/Facebook/top2vec/\"\n",
    "DATA_PATH = os.path.join(PATH,'data')\n",
    "model_name = \"top2vec_deeplearn_distiluse_notoken_2024-06-27.model\"\n",
    "model_path = os.path.join(DATA_PATH, model_name)\n",
    "textdata_file = \"data_all_text.csv\"\n",
    "textdata_path = os.path.join(DATA_PATH, textdata_file)\n",
    "data_file = \"pooled_us_aug2020.dta\"\n",
    "data_path = os.path.join(DATA_PATH, data_file)"
   ]
  },
  {
   "cell_type": "code",
   "execution_count": 13,
   "metadata": {},
   "outputs": [
    {
     "name": "stdout",
     "output_type": "stream",
     "text": [
      "Number of topics: 3936\n"
     ]
    },
    {
     "name": "stderr",
     "output_type": "stream",
     "text": [
      "/tmp/ipykernel_8505/741096147.py:6: DtypeWarning: Columns (5) have mixed types. Specify dtype option on import or set low_memory=False.\n",
      "  textdata = pd.read_csv(textdata_path)\n"
     ]
    },
    {
     "name": "stdout",
     "output_type": "stream",
     "text": [
      "Text Data Size: (820099, 8)\n",
      "Data Size: (220033, 151)\n"
     ]
    }
   ],
   "source": [
    "# load model\n",
    "model = Top2Vec.load(model_path)\n",
    "topic_sizes, topic_nums = model.get_topic_sizes()\n",
    "print(f\"Number of topics: {len(topic_sizes)}\")\n",
    "# load text data\n",
    "textdata = pd.read_csv(textdata_path, low_memory=False)\n",
    "print(f\"Text Data Size: {textdata.shape}\")\n",
    "# load data\n",
    "data = pd.read_stata(data_path)\n",
    "print(f\"Data Size: {data.shape}\")"
   ]
  },
  {
   "cell_type": "code",
   "execution_count": 18,
   "metadata": {},
   "outputs": [
    {
     "name": "stdout",
     "output_type": "stream",
     "text": [
      "Out of 220033 rows, 220033 rows have creator_id in textdata\n",
      "Out of 34028 rows, 17337 rows have sponsor_id in textdata\n",
      "Number of rows with non-missing similarity: 17273\n"
     ]
    }
   ],
   "source": [
    "# sanity checks\n",
    "# control for creator ids\n",
    "print(f\"Out of {data.shape[0]} rows, {data[data.creator_id.isin(textdata.creator_id)].shape[0]} rows have creator_id in textdata\")\n",
    "# control for sponosr ids\n",
    "print(f\"Out of {data[data.sponsored==1].shape[0]} rows, {data[(data.sponsored==1) & (data.sponsor_id.isin(textdata.creator_id))].shape[0]} rows have sponsor_id in textdata\")\n",
    "# control for current similarity metrics\n",
    "print(f\"Number of rows with non-missing similarity: {data[data.similarity.notnull()].shape[0]}\")"
   ]
  },
  {
   "cell_type": "code",
   "execution_count": null,
   "metadata": {},
   "outputs": [],
   "source": []
  }
 ],
 "metadata": {
  "kernelspec": {
   "display_name": "ctopics",
   "language": "python",
   "name": "python3"
  },
  "language_info": {
   "codemirror_mode": {
    "name": "ipython",
    "version": 3
   },
   "file_extension": ".py",
   "mimetype": "text/x-python",
   "name": "python",
   "nbconvert_exporter": "python",
   "pygments_lexer": "ipython3",
   "version": "3.8.18"
  }
 },
 "nbformat": 4,
 "nbformat_minor": 2
}
