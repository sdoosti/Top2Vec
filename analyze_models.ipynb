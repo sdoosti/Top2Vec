{
 "cells": [
  {
   "cell_type": "code",
   "execution_count": 9,
   "metadata": {},
   "outputs": [],
   "source": [
    "!module load cuda11.8\n",
    "import gensim\n",
    "from top2vec import Top2Vec\n",
    "from gensim.models.coherencemodel import CoherenceModel\n",
    "import os\n",
    "import pandas as pd\n"
   ]
  },
  {
   "cell_type": "code",
   "execution_count": 12,
   "metadata": {},
   "outputs": [
    {
     "name": "stdout",
     "output_type": "stream",
     "text": [
      "top2vec_learn_doc2vec_2024-06-20.model\n",
      "No document vectors\n",
      "top2vec_deeplearn_universal_notoken_2024-06-25.model\n",
      "(820099, 512)\n",
      "top2vec_deeplearn_universal_2024-06-25.model\n",
      "(820099, 512)\n",
      "top2vec_deeplearn_universal_2024-06-20.model\n",
      "(820099, 512)\n",
      "top2vec_deeplearn_doc2vec_notoken_2024-06-21.model\n",
      "(820099, 300)\n"
     ]
    }
   ],
   "source": [
    "PATH = \"/home/doosti@chapman.edu/projects/Facebook/top2vec/\"\n",
    "DATA_PATH = os.path.join(PATH,'data')\n",
    "# model names\n",
    "models = [\n",
    "    \"top2vec_learn_doc2vec_2024-06-20.model\",\n",
    "    \"top2vec_deeplearn_universal_notoken_2024-06-25.model\",\n",
    "    \"top2vec_deeplearn_universal_2024-06-25.model\",\n",
    "    \"top2vec_deeplearn_universal_2024-06-20.model\",\n",
    "    \"top2vec_deeplearn_doc2vec_notoken_2024-06-21.model\"\n",
    "]\n",
    "\n",
    "for model_name in models:\n",
    "    model_path = os.path.join(DATA_PATH,model_name)\n",
    "    model = Top2Vec.load(model_path)\n",
    "    print(model_name)\n",
    "    try:\n",
    "        print(model.document_vectors.shape)\n",
    "    except AttributeError:\n",
    "        print(\"No document vectors\")"
   ]
  },
  {
   "cell_type": "code",
   "execution_count": null,
   "metadata": {},
   "outputs": [],
   "source": [
    "final_models= [ \"top2vec_deeplearn_universal_notoken_2024-06-25.model\",\n",
    "                \"top2vec_deeplearn_universal_2024-06-25.model\",\n",
    "                \"top2vec_deeplearn_doc2vec_notoken_2024-06-21.model\"]"
   ]
  }
 ],
 "metadata": {
  "kernelspec": {
   "display_name": "ctopics",
   "language": "python",
   "name": "python3"
  },
  "language_info": {
   "codemirror_mode": {
    "name": "ipython",
    "version": 3
   },
   "file_extension": ".py",
   "mimetype": "text/x-python",
   "name": "python",
   "nbconvert_exporter": "python",
   "pygments_lexer": "ipython3",
   "version": "3.8.18"
  }
 },
 "nbformat": 4,
 "nbformat_minor": 2
}
