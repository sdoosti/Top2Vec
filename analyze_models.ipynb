{
 "cells": [
  {
   "cell_type": "code",
   "execution_count": 9,
   "metadata": {},
   "outputs": [],
   "source": [
    "!module load cuda11.8\n",
    "import gensim\n",
    "from top2vec import Top2Vec\n",
    "from gensim.models.coherencemodel import CoherenceModel\n",
    "import os\n",
    "import pandas as pd\n"
   ]
  },
  {
   "cell_type": "code",
   "execution_count": 12,
   "metadata": {},
   "outputs": [
    {
     "name": "stdout",
     "output_type": "stream",
     "text": [
      "top2vec_learn_doc2vec_2024-06-20.model\n",
      "No document vectors\n",
      "top2vec_deeplearn_universal_notoken_2024-06-25.model\n",
      "(820099, 512)\n",
      "top2vec_deeplearn_universal_2024-06-25.model\n",
      "(820099, 512)\n",
      "top2vec_deeplearn_universal_2024-06-20.model\n",
      "(820099, 512)\n",
      "top2vec_deeplearn_doc2vec_notoken_2024-06-21.model\n",
      "(820099, 300)\n"
     ]
    }
   ],
   "source": [
    "PATH = \"/home/doosti@chapman.edu/projects/Facebook/top2vec/\"\n",
    "DATA_PATH = os.path.join(PATH,'data')\n",
    "# model names\n",
    "models = [\n",
    "    \"top2vec_learn_doc2vec_2024-06-20.model\",\n",
    "    \"top2vec_deeplearn_universal_notoken_2024-06-25.model\",\n",
    "    \"top2vec_deeplearn_universal_2024-06-25.model\",\n",
    "    \"top2vec_deeplearn_universal_2024-06-20.model\",\n",
    "    \"top2vec_deeplearn_doc2vec_notoken_2024-06-21.model\"\n",
    "]\n",
    "\n",
    "for model_name in models:\n",
    "    model_path = os.path.join(DATA_PATH,model_name)\n",
    "    model = Top2Vec.load(model_path)\n",
    "    print(model_name)\n",
    "    try:\n",
    "        print(model.document_vectors.shape)\n",
    "    except AttributeError:\n",
    "        print(\"No document vectors\")"
   ]
  },
  {
   "cell_type": "code",
   "execution_count": 13,
   "metadata": {},
   "outputs": [],
   "source": [
    "final_models= [ \"top2vec_deeplearn_universal_notoken_2024-06-25.model\",\n",
    "                \"top2vec_deeplearn_universal_2024-06-25.model\",\n",
    "                \"top2vec_deeplearn_doc2vec_notoken_2024-06-21.model\"]"
   ]
  },
  {
   "cell_type": "code",
   "execution_count": 66,
   "metadata": {},
   "outputs": [],
   "source": [
    "model = Top2Vec.load(os.path.join(DATA_PATH,final_models[2]))"
   ]
  },
  {
   "cell_type": "code",
   "execution_count": 36,
   "metadata": {},
   "outputs": [
    {
     "name": "stdout",
     "output_type": "stream",
     "text": [
      "Number of topics: 5390\n"
     ]
    }
   ],
   "source": [
    "topic_sizes, topic_nums = model.get_topic_sizes()\n",
    "print(f\"Number of topics: {len(topic_sizes)}\")"
   ]
  },
  {
   "cell_type": "code",
   "execution_count": 37,
   "metadata": {},
   "outputs": [
    {
     "ename": "KeyboardInterrupt",
     "evalue": "",
     "output_type": "error",
     "traceback": [
      "\u001b[0;31m---------------------------------------------------------------------------\u001b[0m",
      "\u001b[0;31mKeyboardInterrupt\u001b[0m                         Traceback (most recent call last)",
      "Cell \u001b[0;32mIn[37], line 1\u001b[0m\n\u001b[0;32m----> 1\u001b[0m \u001b[43mmodel\u001b[49m\u001b[38;5;241;43m.\u001b[39;49m\u001b[43mhierarchical_topic_reduction\u001b[49m\u001b[43m(\u001b[49m\u001b[38;5;241;43m5091\u001b[39;49m\u001b[43m,\u001b[49m\u001b[43m \u001b[49m\u001b[43minterval\u001b[49m\u001b[38;5;241;43m=\u001b[39;49m\u001b[38;5;241;43m10\u001b[39;49m\u001b[43m)\u001b[49m \u001b[38;5;66;03m# super slow\u001b[39;00m\n",
      "File \u001b[0;32m~/.conda/envs/ctopics/lib/python3.8/site-packages/top2vec/Top2Vec.py:2048\u001b[0m, in \u001b[0;36mTop2Vec.hierarchical_topic_reduction\u001b[0;34m(self, num_topics, interval)\u001b[0m\n\u001b[1;32m   2046\u001b[0m \u001b[38;5;66;03m# update topics sizes\u001b[39;00m\n\u001b[1;32m   2047\u001b[0m \u001b[38;5;28;01mif\u001b[39;00m count \u001b[38;5;241m%\u001b[39m interval \u001b[38;5;241m==\u001b[39m \u001b[38;5;241m0\u001b[39m:\n\u001b[0;32m-> 2048\u001b[0m     doc_top \u001b[38;5;241m=\u001b[39m \u001b[38;5;28;43mself\u001b[39;49m\u001b[38;5;241;43m.\u001b[39;49m\u001b[43m_calculate_documents_topic\u001b[49m\u001b[43m(\u001b[49m\u001b[43mtopic_vectors\u001b[49m\u001b[38;5;241;43m=\u001b[39;49m\u001b[43mtop_vecs\u001b[49m\u001b[43m,\u001b[49m\n\u001b[1;32m   2049\u001b[0m \u001b[43m                                              \u001b[49m\u001b[43mdocument_vectors\u001b[49m\u001b[38;5;241;43m=\u001b[39;49m\u001b[38;5;28;43mself\u001b[39;49m\u001b[38;5;241;43m.\u001b[39;49m\u001b[43mdocument_vectors\u001b[49m\u001b[43m,\u001b[49m\n\u001b[1;32m   2050\u001b[0m \u001b[43m                                              \u001b[49m\u001b[43mdist\u001b[49m\u001b[38;5;241;43m=\u001b[39;49m\u001b[38;5;28;43;01mFalse\u001b[39;49;00m\u001b[43m)\u001b[49m\n\u001b[1;32m   2051\u001b[0m     topic_sizes \u001b[38;5;241m=\u001b[39m pd\u001b[38;5;241m.\u001b[39mSeries(doc_top)\u001b[38;5;241m.\u001b[39mvalue_counts()\n\u001b[1;32m   2052\u001b[0m     top_sizes \u001b[38;5;241m=\u001b[39m [topic_sizes[i] \u001b[38;5;28;01mif\u001b[39;00m i \u001b[38;5;129;01min\u001b[39;00m topic_sizes \u001b[38;5;28;01melse\u001b[39;00m \u001b[38;5;241m1\u001b[39m \u001b[38;5;28;01mfor\u001b[39;00m i \u001b[38;5;129;01min\u001b[39;00m \u001b[38;5;28mrange\u001b[39m(\u001b[38;5;241m0\u001b[39m, top_vecs\u001b[38;5;241m.\u001b[39mshape[\u001b[38;5;241m0\u001b[39m])]\n",
      "File \u001b[0;32m~/.conda/envs/ctopics/lib/python3.8/site-packages/top2vec/Top2Vec.py:970\u001b[0m, in \u001b[0;36mTop2Vec._calculate_documents_topic\u001b[0;34m(topic_vectors, document_vectors, dist, num_topics, topic_index)\u001b[0m\n\u001b[1;32m    967\u001b[0m extra \u001b[38;5;241m=\u001b[39m document_vectors\u001b[38;5;241m.\u001b[39mshape[\u001b[38;5;241m0\u001b[39m] \u001b[38;5;241m%\u001b[39m batch_size\n\u001b[1;32m    969\u001b[0m \u001b[38;5;28;01mfor\u001b[39;00m ind \u001b[38;5;129;01min\u001b[39;00m \u001b[38;5;28mrange\u001b[39m(\u001b[38;5;241m0\u001b[39m, batches):\n\u001b[0;32m--> 970\u001b[0m     res \u001b[38;5;241m=\u001b[39m \u001b[43mnp\u001b[49m\u001b[38;5;241;43m.\u001b[39;49m\u001b[43minner\u001b[49m\u001b[43m(\u001b[49m\u001b[43mdocument_vectors\u001b[49m\u001b[43m[\u001b[49m\u001b[43mcurrent\u001b[49m\u001b[43m:\u001b[49m\u001b[43mcurrent\u001b[49m\u001b[43m \u001b[49m\u001b[38;5;241;43m+\u001b[39;49m\u001b[43m \u001b[49m\u001b[43mbatch_size\u001b[49m\u001b[43m]\u001b[49m\u001b[43m,\u001b[49m\u001b[43m \u001b[49m\u001b[43mtopic_vectors\u001b[49m\u001b[43m)\u001b[49m\n\u001b[1;32m    972\u001b[0m     \u001b[38;5;28;01mif\u001b[39;00m num_topics \u001b[38;5;129;01mis\u001b[39;00m \u001b[38;5;28;01mNone\u001b[39;00m:\n\u001b[1;32m    973\u001b[0m         doc_top\u001b[38;5;241m.\u001b[39mextend(np\u001b[38;5;241m.\u001b[39margmax(res, axis\u001b[38;5;241m=\u001b[39m\u001b[38;5;241m1\u001b[39m))\n",
      "File \u001b[0;32m<__array_function__ internals>:200\u001b[0m, in \u001b[0;36minner\u001b[0;34m(*args, **kwargs)\u001b[0m\n",
      "\u001b[0;31mKeyboardInterrupt\u001b[0m: "
     ]
    }
   ],
   "source": [
    "model.hierarchical_topic_reduction(5091, interval=10) # super slow"
   ]
  },
  {
   "cell_type": "code",
   "execution_count": 67,
   "metadata": {},
   "outputs": [
    {
     "name": "stdout",
     "output_type": "stream",
     "text": [
      "['iphone x review everything you need to know about apple new ive been using the iphone x for a week and its definitely worth the  price tag topics are apple inc iphone'\n",
      " 'apple is having a bad  it going to be a bad year for the iphone here why topics are apple inc apple iphone iphone s'\n",
      " 'live from the iphone x and iphone  event check out everything apple just announced topics are iphone apple inc'\n",
      " 'superchange iphone how to supercharge your iphone in  minutes topics are ipad apple inc iphone'\n",
      " 'best features of apple new iphone x apple unveiled the iphone x here are the best features of the  phone topics are iphone apple inc'\n",
      " 'the iphone  will be boring sorry apple fans the iphone  is going to be boring topics are apple inc samsung group iphone iphone '\n",
      " 'what it like to use apple new iphone x handson with the new  apple iphone x topics are apple inc iphone'\n",
      " 'first look at apple new iphone facial unlock feature apple got rid of the home button on the iphone x but you can use your face to unlock it topics are iphone apple inc'\n",
      " 'asking the public iphone  or iphone x people are way too gullible credit woody kleiny topics are apple inc iphone iphone '\n",
      " 'iphone  details the iphone  is hitting stores on september  here what youre getting topics are apple inc phone connector iphone']\n"
     ]
    }
   ],
   "source": [
    "docs, _1, _2 = model.search_documents_by_documents(doc_ids=[810944], num_docs=10)\n",
    "print(docs)"
   ]
  },
  {
   "cell_type": "code",
   "execution_count": 68,
   "metadata": {},
   "outputs": [
    {
     "name": "stdout",
     "output_type": "stream",
     "text": [
      "['eat drink perth the aviary espresso martinis what better than a traditional espresso martini salted caramel and popcorn espresso martinis for only  make the most of eatdrinkperth and visit the aviary perth for their letsthursday special super happy hour with drink specials from pm pm and thursday tucker meals for just  the aviary is your perfect thursday destination'\n",
      " 'kahlúa espresso martini the ultimate way to impress your guests at your next cocktail party see more recipes here khluausdrinks kahlúa espresso martini the ultimate way to impress your guests at your next cocktail party see more recipes here khluausdrinks topics are kahlúa espresso martini buzzfeed'\n",
      " 'espresso martini layer cake what better than a sip of a cocktail a bite of a dessert that tastes like one get our espresso martini cake recipe topics are cake dessert espresso martini classic cocktail'\n",
      " 'how to make a classic espresso martini for internationalcoffeeday jamieolcomespmartini drinkstube topics are espresso espresso martini jamie oliver martini'\n",
      " ' ball espresso martini dessert to celebrate halford bar birthday sue lewis chocolatier and halford have combined to create the mouthwatering  ball espresso martini dessert available throughout spring wedsun this delicious cocktail is worth every sip topics are dessert chocolate espresso martini classic cocktail perth'\n",
      " 'chocolate orange espresso martini jamie oliver drinks tube the ultimate dessert cocktail how to make a chocolate orange espresso martini jamieolcomdrinkstube drinkstube topics are drink cocktail jamie oliver martini'\n",
      " 'need an afternoon pickmeup enjoy  off an americano con crema and other handcrafted espresso beverages in the afternoon topics are espresso drink coffee peet coffee tea caffè americano'\n",
      " 'happy national espresso day happy national espresso day celebrate your for espresso with any medium hot or iced espresso beverage for  today '\n",
      " 'espresso martinis at the aviary  espresso martinis are back at the aviary perth throughout spring in the city you can enjoy this cocktail classic while taking in some of perth best rooftop views for more info valid thur fri selected periods topics are coffee espresso martini classic cocktail perth aviary'\n",
      " 'classic espresso martini jamie oliver drinks tube how to make a classic espresso martini jamieolcomclassicespressomartini drinkstube']\n"
     ]
    }
   ],
   "source": [
    "docs, _1, ids = model.search_documents_by_keywords(keywords=[\"espresso\"], num_docs=10)\n",
    "print(docs)"
   ]
  },
  {
   "cell_type": "code",
   "execution_count": 61,
   "metadata": {},
   "outputs": [
    {
     "name": "stdout",
     "output_type": "stream",
     "text": [
      "Document: portable espresso true coffee snobs would love this portable espresso machine topics are espresso co... Score: 0.5969740748405457\n",
      "Document: portable espresso coffee machine we all know someone that always needs a coffee topics are coffee es... Score: 0.5849196910858154\n",
      "Document: bripe the coffee brew pipe simple espresso everywhere... Score: 0.5835559964179993\n",
      "Document:  coffee maker this goldplated  machine just makes coffee... Score: 0.5628326535224915\n",
      "Document:  coffee maker this goldplated  machine just makes coffee... Score: 0.5628326535224915\n",
      "Document: fresh espresso and luscious crema watch the barista express in action topics are breville espresso c... Score: 0.5587366223335266\n",
      "Document: how to clean a coffee maker how to clean a coffee maker because it shouldnt be that color inside top... Score: 0.5566979050636292\n",
      "Document: make espresso anywhere you can make espresso anytime anywhere amzntoaaloi topics are coffee espresso... Score: 0.5547324419021606\n",
      "Document: leverpresso all in one portable lever espresso maker it too easy to make cafequality espresso right ... Score: 0.5266392230987549\n",
      "Document: handpresso anywhere this gadget lets you brew your own espresso anywhere topics are handpresso espre... Score: 0.5258061289787292\n"
     ]
    }
   ],
   "source": [
    "docs, scores, ids = model.query_documents(query=\"clean espresso machine\", num_docs=10)\n",
    "for i, doc in enumerate(docs):\n",
    "    print(f\"Document: {doc[:100]}... Score: {scores[i]}\")"
   ]
  },
  {
   "cell_type": "code",
   "execution_count": 63,
   "metadata": {},
   "outputs": [
    {
     "name": "stdout",
     "output_type": "stream",
     "text": [
      "fresh espresso and luscious crema watch the barista express in action topics are breville espresso coffee\n"
     ]
    }
   ],
   "source": [
    "print(docs[5])"
   ]
  },
  {
   "cell_type": "code",
   "execution_count": null,
   "metadata": {},
   "outputs": [],
   "source": [
    "# clustering using umap and hdbscan\n",
    "def clustering(model):\n",
    "    model.hierarchical_topic_reduction(0.1)\n",
    "    model.umap_topic_reduction(n_neighbors=15, min_dist=0.1)\n",
    "    model.hdbscan_topic_reduction(min_cluster_size=15)\n",
    "    return model"
   ]
  }
 ],
 "metadata": {
  "kernelspec": {
   "display_name": "ctopics",
   "language": "python",
   "name": "python3"
  },
  "language_info": {
   "codemirror_mode": {
    "name": "ipython",
    "version": 3
   },
   "file_extension": ".py",
   "mimetype": "text/x-python",
   "name": "python",
   "nbconvert_exporter": "python",
   "pygments_lexer": "ipython3",
   "version": "3.8.18"
  }
 },
 "nbformat": 4,
 "nbformat_minor": 2
}
